{
 "cells": [
  {
   "cell_type": "code",
   "execution_count": 2,
   "metadata": {},
   "outputs": [],
   "source": [
    "import gym\n",
    "\n",
    "import torch\n",
    "from torch import nn\n",
    "from torch.nn import MSELoss\n",
    "from torch import optim\n",
    "\n",
    "import matplotlib.pyplot as plt\n",
    "import numpy as np\n",
    "import random\n",
    "from copy import deepcopy"
   ]
  },
  {
   "cell_type": "code",
   "execution_count": 3,
   "metadata": {},
   "outputs": [],
   "source": [
    "device = torch.device(\"cpu\")"
   ]
  },
  {
   "cell_type": "code",
   "execution_count": 4,
   "metadata": {},
   "outputs": [],
   "source": [
    "env = gym.make(\"MountainCar-v0\")\n",
    "state = env.reset()"
   ]
  },
  {
   "cell_type": "code",
   "execution_count": 5,
   "metadata": {},
   "outputs": [],
   "source": [
    "model = nn.Sequential(\n",
    "    nn.Linear(2, 16),\n",
    "    nn.ReLU(),\n",
    "    nn.Linear(16, 32),\n",
    "    nn.ReLU(),\n",
    "    nn.Linear(32, 3),\n",
    "    nn.Softmax()\n",
    ")\n",
    "\n",
    "target_model = deepcopy(model)\n",
    "optimizer = optim.Adam(model.parameters())"
   ]
  },
  {
   "cell_type": "code",
   "execution_count": 6,
   "metadata": {},
   "outputs": [],
   "source": [
    "class D:\n",
    "    def __init__(self, N):\n",
    "        self.n = N\n",
    "        self.memory = []\n",
    "    def add(self, element):\n",
    "        self.memory.append(element)\n",
    "        if self.n < len(self.memory):\n",
    "            self.memory.pop(0)\n",
    "            \n",
    "    def batch(self,size):\n",
    "        return list(zip(*random.sample(self.memory, size)))\n",
    "        "
   ]
  },
  {
   "cell_type": "code",
   "execution_count": null,
   "metadata": {},
   "outputs": [],
   "source": [
    "d = D(3000)\n",
    "\n",
    "rewards = []\n",
    "for i in range(1,40001):\n",
    "    \n",
    "    if random.random() < 0.1:\n",
    "        action = random.randint(0, 2)\n",
    "    else:\n",
    "        action = model(torch.tensor(state).float()).argmax().item()\n",
    "        \n",
    "    new_state, reward, done, _ = env.step(action)\n",
    "    \n",
    "    if done:\n",
    "        d.add([state,action,reward,state,done])\n",
    "        env.reset()\n",
    "        done=False\n",
    "    else:\n",
    "        d.add([state,action,reward + 10*abs(new_state[1]),new_state,done])\n",
    "        \n",
    "    if i > 100:\n",
    "        \n",
    "        states, actions, rewardes, next_states,dones = d.batch(100)\n",
    "        states = torch.tensor(states).float()\n",
    "        next_states = torch.tensor(next_states).float()\n",
    "        rewardes = torch.tensor(rewardes).float()\n",
    "        actions = torch.tensor(actions)\n",
    "        \n",
    "        target = torch.zeros(rewardes.size()[0]).float()\n",
    "        with torch.no_grad():\n",
    "\n",
    "            target[dones] = target_model(next_states).max(1)[0].detach()[dones]\n",
    "        \n",
    "        target = rewardes + target * 0.99\n",
    "\n",
    "        q = model(states).gather(1, actions.unsqueeze(1))\n",
    "        \n",
    "\n",
    "        criterion = MSELoss()\n",
    "        loss = criterion(q, target.unsqueeze(1))\n",
    "\n",
    "        \n",
    "        optimizer.zero_grad()\n",
    "        \n",
    "        loss.backward()\n",
    "        \n",
    "        for params in model.parameters():\n",
    "            params.grad.data.clamp_(-1, 1)\n",
    "\n",
    "        optimizer.step()\n",
    "        \n",
    "    if i % 2000 == 0:\n",
    "        target_model = deepcopy(model)\n",
    "        state = env.reset()\n",
    "        reward_sum = 0\n",
    "        done = False\n",
    "        while not done:\n",
    "            action = model(torch.tensor(state).float()).argmax().item()\n",
    "            state, reward, done, _ = env.step(action)\n",
    "            reward_sum += reward\n",
    "        \n",
    "        rewards.append(reward_sum)\n",
    "            \n",
    "        \n",
    "\n",
    "        \n",
    "        \n"
   ]
  },
  {
   "cell_type": "code",
   "execution_count": 25,
   "metadata": {
    "scrolled": true
   },
   "outputs": [
    {
     "data": {
      "image/png": "[encoded data removed]",
      "text/plain": [
       "<Figure size 432x288 with 1 Axes>"
      ]
     },
     "metadata": {
      "needs_background": "light"
     },
     "output_type": "display_data"
    }
   ],
   "source": [
    "plt.plot(list(range(len(rewards))), rewards)\n",
    "plt.show()"
   ]
  }
 ],
 "metadata": {
  "kernelspec": {
   "display_name": "Python 3",
   "language": "python",
   "name": "python3"
  },
  "language_info": {
   "codemirror_mode": {
    "name": "ipython",
    "version": 3
   },
   "file_extension": ".py",
   "mimetype": "text/x-python",
   "name": "python",
   "nbconvert_exporter": "python",
   "pygments_lexer": "ipython3",
   "version": "3.7.4"
  }
 },
 "nbformat": 4,
 "nbformat_minor": 2
}
