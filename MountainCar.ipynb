{
 "cells": [
  {
   "cell_type": "code",
   "execution_count": 1,
   "metadata": {},
   "outputs": [],
   "source": [
    "import gym\n",
    "\n",
    "import torch\n",
    "from torch import nn\n",
    "from torch.nn import MSELoss\n",
    "from torch import optim\n",
    "\n",
    "import matplotlib.pyplot as plt\n",
    "import numpy as np\n",
    "import random\n",
    "from copy import deepcopy\n",
    "from IPython.display import clear_output\n",
    "import torch.nn.functional as F"
   ]
  },
  {
   "cell_type": "code",
   "execution_count": 2,
   "metadata": {},
   "outputs": [],
   "source": [
    "device = torch.device(\"cpu\")"
   ]
  },
  {
   "cell_type": "code",
   "execution_count": 3,
   "metadata": {},
   "outputs": [],
   "source": [
    "env = gym.make(\"MountainCar-v0\")\n",
    "state = env.reset()"
   ]
  },
  {
   "cell_type": "code",
   "execution_count": 4,
   "metadata": {},
   "outputs": [
    {
     "name": "stderr",
     "output_type": "stream",
     "text": [
      "/Users/aleksandrbutenko/opt/anaconda3/lib/python3.7/site-packages/ipykernel_launcher.py:14: UserWarning: nn.init.xavier_normal is now deprecated in favor of nn.init.xavier_normal_.\n",
      "  \n"
     ]
    }
   ],
   "source": [
    "model = nn.Sequential(\n",
    "    nn.Linear(2, 32),\n",
    "    nn.ReLU(),\n",
    "    nn.Linear(32, 32),\n",
    "    nn.ReLU(),\n",
    "    nn.Linear(32, 3)\n",
    ")\n",
    "\n",
    "target_model = deepcopy(model)\n",
    "\n",
    "\n",
    "def init_weights(layer):\n",
    "    if type(layer) == nn.Linear:\n",
    "        nn.init.xavier_normal(layer.weight)\n",
    "\n",
    "model.apply(init_weights)\n",
    "\n",
    "model.train()\n",
    "target_model.train()\n",
    "model.to(device)\n",
    "target_model.to(device)\n",
    "\n",
    "optimizer = optim.Adam(model.parameters(), lr=0.00003)"
   ]
  },
  {
   "cell_type": "code",
   "execution_count": 5,
   "metadata": {},
   "outputs": [],
   "source": [
    "class D:\n",
    "    def __init__(self, N):\n",
    "        self.n = N\n",
    "        self.memory = []\n",
    "    def add(self, element):\n",
    "        self.memory.append(element)\n",
    "        if self.n < len(self.memory):\n",
    "            self.memory.pop(0)\n",
    "            \n",
    "    def batch(self,size):\n",
    "        return random.sample(self.memory, size)\n",
    "        "
   ]
  },
  {
   "cell_type": "code",
   "execution_count": 7,
   "metadata": {},
   "outputs": [
    {
     "data": {
      "image/png": "[encoded data removed]",
      "text/plain": [
       "<Figure size 432x288 with 1 Axes>"
      ]
     },
     "metadata": {
      "needs_background": "light"
     },
     "output_type": "display_data"
    }
   ],
   "source": [
    "random.seed(1)\n",
    "\n",
    "memory = D(5000)\n",
    "\n",
    "rewards = []\n",
    "\n",
    "state = env.reset()\n",
    "for i in range(1, 20001):\n",
    "    \n",
    "\n",
    "    if random.random() < 1 - 0.9 * i / 20001:\n",
    "        action = random.randint(0, 2)\n",
    "    else:\n",
    "        action = model(torch.tensor(state).float()).argmax().item()\n",
    "        \n",
    "    new_state, reward, done, _ = env.step(action)\n",
    "\n",
    "    if done:\n",
    "        memory.add((state, action, reward, state, done))\n",
    "        state = env.reset()\n",
    "        done = False\n",
    "    else:\n",
    "\n",
    "        memory.add((state, action, reward + 5 * abs(new_state[1]), new_state, done))\n",
    "        state = new_state\n",
    "    \n",
    "    #study every step after we accumulate\n",
    "    \n",
    "    if i > 128:\n",
    "        states, actions, rewardes, next_states,dones = list(zip(*memory.batch(128)))\n",
    "\n",
    "        states = torch.tensor(states).to(device).float()\n",
    "        next_states = torch.tensor(next_states).to(device).float()\n",
    "        rewardes = torch.tensor(rewardes).to(device).float()\n",
    "        actions = torch.tensor(actions)\n",
    "\n",
    "        target = torch.zeros(rewardes.size()[0]).float()\n",
    "\n",
    "        with torch.no_grad():\n",
    "            target[dones] = target_model(next_states).max(1)[0][dones]\n",
    "\n",
    "        target = rewardes + target * 0.99\n",
    "\n",
    "        q = model(states).gather(1, actions.unsqueeze(1))\n",
    "        loss = F.smooth_l1_loss(q, target.unsqueeze(1))\n",
    "\n",
    "        optimizer.zero_grad()\n",
    "\n",
    "        loss.backward()\n",
    "\n",
    "        for params in model.parameters():\n",
    "            params.grad.data.clamp_(-1, 1)\n",
    "\n",
    "        optimizer.step()\n",
    "\n",
    "\n",
    "    if i % 1000 == 0:\n",
    "        target_model = deepcopy(model)\n",
    "        state = env.reset()\n",
    "        state = env.reset()\n",
    "        rew = 0.\n",
    "        done = False\n",
    "        while not done:\n",
    "\n",
    "            epsilon = 0.\n",
    "\n",
    "            action = model(torch.tensor(state).float()).argmax().item()\n",
    "            state, reward, done, _ = env.step(action)\n",
    "            rew += reward\n",
    "        rewards.append(rew)\n",
    "        clear_output(True)\n",
    "        plt.grid()\n",
    "        plt.plot(list(range(len(rewards))), rewards)\n",
    "        plt.show()\n",
    "        \n",
    "\n"
   ]
  },
  {
   "cell_type": "code",
   "execution_count": null,
   "metadata": {},
   "outputs": [],
   "source": []
  }
 ],
 "metadata": {
  "kernelspec": {
   "display_name": "Python 3",
   "language": "python",
   "name": "python3"
  },
  "language_info": {
   "codemirror_mode": {
    "name": "ipython",
    "version": 3
   },
   "file_extension": ".py",
   "mimetype": "text/x-python",
   "name": "python",
   "nbconvert_exporter": "python",
   "pygments_lexer": "ipython3",
   "version": "3.7.4"
  }
 },
 "nbformat": 4,
 "nbformat_minor": 2
}
